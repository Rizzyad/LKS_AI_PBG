{
  "nbformat": 4,
  "nbformat_minor": 0,
  "metadata": {
    "colab": {
      "provenance": [],
      "include_colab_link": true
    },
    "kernelspec": {
      "name": "python3",
      "display_name": "Python 3"
    },
    "language_info": {
      "name": "python"
    }
  },
  "cells": [
    {
      "cell_type": "markdown",
      "metadata": {
        "id": "view-in-github",
        "colab_type": "text"
      },
      "source": [
        "<a href=\"https://colab.research.google.com/github/Rizzyad/LKS_AI_PBG/blob/main/LKS_AI_PBG_Tim_1__B.ipynb\" target=\"_parent\"><img src=\"https://colab.research.google.com/assets/colab-badge.svg\" alt=\"Open In Colab\"/></a>"
      ]
    },
    {
      "cell_type": "markdown",
      "source": [
        "# **Modul A: Data Preparation**"
      ],
      "metadata": {
        "id": "DTTcSIXBmY_Y"
      }
    },
    {
      "cell_type": "code",
      "source": [
        "from google.colab import drive\n",
        "drive.mount('/content/drive')"
      ],
      "metadata": {
        "id": "LlC7qUD_y6lO"
      },
      "execution_count": null,
      "outputs": []
    },
    {
      "cell_type": "code",
      "execution_count": null,
      "metadata": {
        "id": "cuw8VAzKPmkJ"
      },
      "outputs": [],
      "source": [
        "#impor library dan modul yang akan digunakan\n",
        "import pandas as pd\n",
        "import numpy as np\n",
        "import matplotlib.pyplot as plt\n",
        "import seaborn as sns"
      ]
    },
    {
      "cell_type": "code",
      "source": [
        "#membaca file dataset yang akan digunakan dan ditampung kepada variabel df\n",
        "df = pd.read_csv('/content/datasets.csv.xls', sep=',')\n",
        "\n",
        "#menampilkan 5 baris teratas dataframe\n",
        "df.head()"
      ],
      "metadata": {
        "colab": {
          "base_uri": "https://localhost:8080/",
          "height": 337
        },
        "id": "tWV1h7HSSySJ",
        "outputId": "fa4948c2-8737-4c74-d6d1-5145351781e5"
      },
      "execution_count": null,
      "outputs": [
        {
          "output_type": "execute_result",
          "data": {
            "text/plain": [
              "              urlDrugName  rating         effectiveness          sideEffects  \\\n",
              "0  2202         enalapril       4      Highly Effective    Mild Side Effects   \n",
              "1  3117  ortho-tri-cyclen       1      Highly Effective  Severe Side Effects   \n",
              "2  1146           ponstel      10      Highly Effective      No Side Effects   \n",
              "3  3947          prilosec       3  Marginally Effective    Mild Side Effects   \n",
              "4  1951            lyrica       2  Marginally Effective  Severe Side Effects   \n",
              "\n",
              "                                condition  \\\n",
              "0  management of congestive heart failure   \n",
              "1                        birth prevention   \n",
              "2                        menstrual cramps   \n",
              "3                             acid reflux   \n",
              "4                            fibromyalgia   \n",
              "\n",
              "                                      benefitsReview  \\\n",
              "0  slowed the progression of left ventricular dys...   \n",
              "1  Although this type of birth control has more c...   \n",
              "2  I was used to having cramps so badly that they...   \n",
              "3  The acid reflux went away for a few months aft...   \n",
              "4  I think that the Lyrica was starting to help w...   \n",
              "\n",
              "                                   sideEffectsReview  \\\n",
              "0  cough, hypotension , proteinuria, impotence , ...   \n",
              "1  Heavy Cycle, Cramps, Hot Flashes, Fatigue, Lon...   \n",
              "2         Heavier bleeding and clotting than normal.   \n",
              "3  Constipation, dry mouth and some mild dizzines...   \n",
              "4  I felt extremely drugged and dopey.  Could not...   \n",
              "\n",
              "                                      commentsReview  \n",
              "0  monitor blood pressure , weight and asses for ...  \n",
              "1  I Hate This Birth Control, I Would Not Suggest...  \n",
              "2  I took 2 pills at the onset of my menstrual cr...  \n",
              "3  I was given Prilosec prescription at a dose of...  \n",
              "4                                          See above  "
            ],
            "text/html": [
              "\n",
              "  <div id=\"df-f78e5b27-140c-417a-b03a-c27443e350d7\">\n",
              "    <div class=\"colab-df-container\">\n",
              "      <div>\n",
              "<style scoped>\n",
              "    .dataframe tbody tr th:only-of-type {\n",
              "        vertical-align: middle;\n",
              "    }\n",
              "\n",
              "    .dataframe tbody tr th {\n",
              "        vertical-align: top;\n",
              "    }\n",
              "\n",
              "    .dataframe thead th {\n",
              "        text-align: right;\n",
              "    }\n",
              "</style>\n",
              "<table border=\"1\" class=\"dataframe\">\n",
              "  <thead>\n",
              "    <tr style=\"text-align: right;\">\n",
              "      <th></th>\n",
              "      <th></th>\n",
              "      <th>urlDrugName</th>\n",
              "      <th>rating</th>\n",
              "      <th>effectiveness</th>\n",
              "      <th>sideEffects</th>\n",
              "      <th>condition</th>\n",
              "      <th>benefitsReview</th>\n",
              "      <th>sideEffectsReview</th>\n",
              "      <th>commentsReview</th>\n",
              "    </tr>\n",
              "  </thead>\n",
              "  <tbody>\n",
              "    <tr>\n",
              "      <th>0</th>\n",
              "      <td>2202</td>\n",
              "      <td>enalapril</td>\n",
              "      <td>4</td>\n",
              "      <td>Highly Effective</td>\n",
              "      <td>Mild Side Effects</td>\n",
              "      <td>management of congestive heart failure</td>\n",
              "      <td>slowed the progression of left ventricular dys...</td>\n",
              "      <td>cough, hypotension , proteinuria, impotence , ...</td>\n",
              "      <td>monitor blood pressure , weight and asses for ...</td>\n",
              "    </tr>\n",
              "    <tr>\n",
              "      <th>1</th>\n",
              "      <td>3117</td>\n",
              "      <td>ortho-tri-cyclen</td>\n",
              "      <td>1</td>\n",
              "      <td>Highly Effective</td>\n",
              "      <td>Severe Side Effects</td>\n",
              "      <td>birth prevention</td>\n",
              "      <td>Although this type of birth control has more c...</td>\n",
              "      <td>Heavy Cycle, Cramps, Hot Flashes, Fatigue, Lon...</td>\n",
              "      <td>I Hate This Birth Control, I Would Not Suggest...</td>\n",
              "    </tr>\n",
              "    <tr>\n",
              "      <th>2</th>\n",
              "      <td>1146</td>\n",
              "      <td>ponstel</td>\n",
              "      <td>10</td>\n",
              "      <td>Highly Effective</td>\n",
              "      <td>No Side Effects</td>\n",
              "      <td>menstrual cramps</td>\n",
              "      <td>I was used to having cramps so badly that they...</td>\n",
              "      <td>Heavier bleeding and clotting than normal.</td>\n",
              "      <td>I took 2 pills at the onset of my menstrual cr...</td>\n",
              "    </tr>\n",
              "    <tr>\n",
              "      <th>3</th>\n",
              "      <td>3947</td>\n",
              "      <td>prilosec</td>\n",
              "      <td>3</td>\n",
              "      <td>Marginally Effective</td>\n",
              "      <td>Mild Side Effects</td>\n",
              "      <td>acid reflux</td>\n",
              "      <td>The acid reflux went away for a few months aft...</td>\n",
              "      <td>Constipation, dry mouth and some mild dizzines...</td>\n",
              "      <td>I was given Prilosec prescription at a dose of...</td>\n",
              "    </tr>\n",
              "    <tr>\n",
              "      <th>4</th>\n",
              "      <td>1951</td>\n",
              "      <td>lyrica</td>\n",
              "      <td>2</td>\n",
              "      <td>Marginally Effective</td>\n",
              "      <td>Severe Side Effects</td>\n",
              "      <td>fibromyalgia</td>\n",
              "      <td>I think that the Lyrica was starting to help w...</td>\n",
              "      <td>I felt extremely drugged and dopey.  Could not...</td>\n",
              "      <td>See above</td>\n",
              "    </tr>\n",
              "  </tbody>\n",
              "</table>\n",
              "</div>\n",
              "      <button class=\"colab-df-convert\" onclick=\"convertToInteractive('df-f78e5b27-140c-417a-b03a-c27443e350d7')\"\n",
              "              title=\"Convert this dataframe to an interactive table.\"\n",
              "              style=\"display:none;\">\n",
              "        \n",
              "  <svg xmlns=\"http://www.w3.org/2000/svg\" height=\"24px\"viewBox=\"0 0 24 24\"\n",
              "       width=\"24px\">\n",
              "    <path d=\"M0 0h24v24H0V0z\" fill=\"none\"/>\n",
              "    <path d=\"M18.56 5.44l.94 2.06.94-2.06 2.06-.94-2.06-.94-.94-2.06-.94 2.06-2.06.94zm-11 1L8.5 8.5l.94-2.06 2.06-.94-2.06-.94L8.5 2.5l-.94 2.06-2.06.94zm10 10l.94 2.06.94-2.06 2.06-.94-2.06-.94-.94-2.06-.94 2.06-2.06.94z\"/><path d=\"M17.41 7.96l-1.37-1.37c-.4-.4-.92-.59-1.43-.59-.52 0-1.04.2-1.43.59L10.3 9.45l-7.72 7.72c-.78.78-.78 2.05 0 2.83L4 21.41c.39.39.9.59 1.41.59.51 0 1.02-.2 1.41-.59l7.78-7.78 2.81-2.81c.8-.78.8-2.07 0-2.86zM5.41 20L4 18.59l7.72-7.72 1.47 1.35L5.41 20z\"/>\n",
              "  </svg>\n",
              "      </button>\n",
              "      \n",
              "  <style>\n",
              "    .colab-df-container {\n",
              "      display:flex;\n",
              "      flex-wrap:wrap;\n",
              "      gap: 12px;\n",
              "    }\n",
              "\n",
              "    .colab-df-convert {\n",
              "      background-color: #E8F0FE;\n",
              "      border: none;\n",
              "      border-radius: 50%;\n",
              "      cursor: pointer;\n",
              "      display: none;\n",
              "      fill: #1967D2;\n",
              "      height: 32px;\n",
              "      padding: 0 0 0 0;\n",
              "      width: 32px;\n",
              "    }\n",
              "\n",
              "    .colab-df-convert:hover {\n",
              "      background-color: #E2EBFA;\n",
              "      box-shadow: 0px 1px 2px rgba(60, 64, 67, 0.3), 0px 1px 3px 1px rgba(60, 64, 67, 0.15);\n",
              "      fill: #174EA6;\n",
              "    }\n",
              "\n",
              "    [theme=dark] .colab-df-convert {\n",
              "      background-color: #3B4455;\n",
              "      fill: #D2E3FC;\n",
              "    }\n",
              "\n",
              "    [theme=dark] .colab-df-convert:hover {\n",
              "      background-color: #434B5C;\n",
              "      box-shadow: 0px 1px 3px 1px rgba(0, 0, 0, 0.15);\n",
              "      filter: drop-shadow(0px 1px 2px rgba(0, 0, 0, 0.3));\n",
              "      fill: #FFFFFF;\n",
              "    }\n",
              "  </style>\n",
              "\n",
              "      <script>\n",
              "        const buttonEl =\n",
              "          document.querySelector('#df-f78e5b27-140c-417a-b03a-c27443e350d7 button.colab-df-convert');\n",
              "        buttonEl.style.display =\n",
              "          google.colab.kernel.accessAllowed ? 'block' : 'none';\n",
              "\n",
              "        async function convertToInteractive(key) {\n",
              "          const element = document.querySelector('#df-f78e5b27-140c-417a-b03a-c27443e350d7');\n",
              "          const dataTable =\n",
              "            await google.colab.kernel.invokeFunction('convertToInteractive',\n",
              "                                                     [key], {});\n",
              "          if (!dataTable) return;\n",
              "\n",
              "          const docLinkHtml = 'Like what you see? Visit the ' +\n",
              "            '<a target=\"_blank\" href=https://colab.research.google.com/notebooks/data_table.ipynb>data table notebook</a>'\n",
              "            + ' to learn more about interactive tables.';\n",
              "          element.innerHTML = '';\n",
              "          dataTable['output_type'] = 'display_data';\n",
              "          await google.colab.output.renderOutput(dataTable, element);\n",
              "          const docLink = document.createElement('div');\n",
              "          docLink.innerHTML = docLinkHtml;\n",
              "          element.appendChild(docLink);\n",
              "        }\n",
              "      </script>\n",
              "    </div>\n",
              "  </div>\n",
              "  "
            ]
          },
          "metadata": {},
          "execution_count": 2
        }
      ]
    },
    {
      "cell_type": "code",
      "source": [
        "#menampilkan informasi yang ada dalam dataframe seperti kolom, null value(data yang kosong), dan tipe data\n",
        "df.info()"
      ],
      "metadata": {
        "colab": {
          "base_uri": "https://localhost:8080/"
        },
        "id": "GtyijQAMS43A",
        "outputId": "76260b68-708c-4ce0-8127-398aee1e5112"
      },
      "execution_count": null,
      "outputs": [
        {
          "output_type": "stream",
          "name": "stdout",
          "text": [
            "<class 'pandas.core.frame.DataFrame'>\n",
            "RangeIndex: 3107 entries, 0 to 3106\n",
            "Data columns (total 9 columns):\n",
            " #   Column             Non-Null Count  Dtype \n",
            "---  ------             --------------  ----- \n",
            " 0                      3107 non-null   int64 \n",
            " 1   urlDrugName        3107 non-null   object\n",
            " 2   rating             3107 non-null   int64 \n",
            " 3   effectiveness      3107 non-null   object\n",
            " 4   sideEffects        3107 non-null   object\n",
            " 5   condition          3106 non-null   object\n",
            " 6   benefitsReview     3107 non-null   object\n",
            " 7   sideEffectsReview  3105 non-null   object\n",
            " 8   commentsReview     3099 non-null   object\n",
            "dtypes: int64(2), object(7)\n",
            "memory usage: 218.6+ KB\n"
          ]
        }
      ]
    },
    {
      "cell_type": "code",
      "source": [
        "#menampilkan dimensi dataframe seperti jumlah baris dan jumlah kolom\n",
        "df.shape"
      ],
      "metadata": {
        "colab": {
          "base_uri": "https://localhost:8080/"
        },
        "id": "M3klUfvTTncQ",
        "outputId": "0e762244-d711-4435-aa0c-bafddd86a9d8"
      },
      "execution_count": null,
      "outputs": [
        {
          "output_type": "execute_result",
          "data": {
            "text/plain": [
              "(3107, 9)"
            ]
          },
          "metadata": {},
          "execution_count": 4
        }
      ]
    },
    {
      "cell_type": "markdown",
      "source": [
        "# **Modul B: Data Preprocessing**"
      ],
      "metadata": {
        "id": "nDmDatqqnR8T"
      }
    },
    {
      "cell_type": "code",
      "source": [
        "#memeriksa apakah ada null value dalam dataframe\n",
        "df.isnull().sum()"
      ],
      "metadata": {
        "colab": {
          "base_uri": "https://localhost:8080/"
        },
        "id": "rhDs_pjdTsnF",
        "outputId": "57441c34-a4a3-49e4-d930-eabd2af504fc"
      },
      "execution_count": null,
      "outputs": [
        {
          "output_type": "execute_result",
          "data": {
            "text/plain": [
              "                     0\n",
              "urlDrugName          0\n",
              "rating               0\n",
              "effectiveness        0\n",
              "sideEffects          0\n",
              "condition            1\n",
              "benefitsReview       0\n",
              "sideEffectsReview    2\n",
              "commentsReview       8\n",
              "dtype: int64"
            ]
          },
          "metadata": {},
          "execution_count": 5
        }
      ]
    },
    {
      "cell_type": "code",
      "source": [
        "#memeriksa apakah ada duplicated value(nilai yang terduplikat) dalam dataframe\n",
        "df.duplicated().sum()"
      ],
      "metadata": {
        "colab": {
          "base_uri": "https://localhost:8080/"
        },
        "id": "MzN4dYTsTvo2",
        "outputId": "590e010d-a220-44b7-be00-0e39ae1ba366"
      },
      "execution_count": null,
      "outputs": [
        {
          "output_type": "execute_result",
          "data": {
            "text/plain": [
              "0"
            ]
          },
          "metadata": {},
          "execution_count": 6
        }
      ]
    },
    {
      "cell_type": "code",
      "source": [
        "#menghapus baris yang terdapat null value dalam dataframe\n",
        "df = df.dropna(axis=0)\n",
        "\n",
        "#mengecek kembali apakah masih ada null value dalam dataframe\n",
        "df.isnull().sum()"
      ],
      "metadata": {
        "colab": {
          "base_uri": "https://localhost:8080/"
        },
        "id": "w94K4Ah4UFPX",
        "outputId": "a6f3ceac-e107-4755-8ba9-790ba5b9d931"
      },
      "execution_count": null,
      "outputs": [
        {
          "output_type": "execute_result",
          "data": {
            "text/plain": [
              "                     0\n",
              "urlDrugName          0\n",
              "rating               0\n",
              "effectiveness        0\n",
              "sideEffects          0\n",
              "condition            0\n",
              "benefitsReview       0\n",
              "sideEffectsReview    0\n",
              "commentsReview       0\n",
              "dtype: int64"
            ]
          },
          "metadata": {},
          "execution_count": 7
        }
      ]
    },
    {
      "cell_type": "code",
      "source": [
        "#menampilkan kembali jumlah baris dan kolom dalam dataframe yang sudah dihapus null valuenya\n",
        "df.shape"
      ],
      "metadata": {
        "colab": {
          "base_uri": "https://localhost:8080/"
        },
        "id": "4qfYf70-UY6_",
        "outputId": "751766a5-46b7-45d6-a48f-05818ee9e033"
      },
      "execution_count": null,
      "outputs": [
        {
          "output_type": "execute_result",
          "data": {
            "text/plain": [
              "(3096, 9)"
            ]
          },
          "metadata": {},
          "execution_count": 8
        }
      ]
    },
    {
      "cell_type": "code",
      "source": [
        "#menampilkan keunikan kelas dalam kolom target yaitu 'effectiveness'\n",
        "df['effectiveness'].unique()"
      ],
      "metadata": {
        "colab": {
          "base_uri": "https://localhost:8080/"
        },
        "id": "Tg2ePv4rTybO",
        "outputId": "ef6f32c1-e246-4652-9543-cf378773ede7"
      },
      "execution_count": null,
      "outputs": [
        {
          "output_type": "execute_result",
          "data": {
            "text/plain": [
              "array(['Highly Effective', 'Marginally Effective', 'Ineffective',\n",
              "       'Considerably Effective', 'Moderately Effective'], dtype=object)"
            ]
          },
          "metadata": {},
          "execution_count": 9
        }
      ]
    },
    {
      "cell_type": "code",
      "source": [
        "#menampilkan jumlah nilai yang unik dalam kolom ' '\n",
        "df[' '].nunique()"
      ],
      "metadata": {
        "colab": {
          "base_uri": "https://localhost:8080/"
        },
        "id": "_HPTtXYEM0TO",
        "outputId": "b0625014-716e-44ce-9fdb-fc3741ecb744"
      },
      "execution_count": null,
      "outputs": [
        {
          "output_type": "execute_result",
          "data": {
            "text/plain": [
              "3096"
            ]
          },
          "metadata": {},
          "execution_count": 10
        }
      ]
    },
    {
      "cell_type": "markdown",
      "source": [
        ">kolom diatas tidak ada nama kolom nya, namun dilihat dari jumlah nilai unik nya sama dengan jumlah baris dalam dataframe, jadi seperti nya kolom tanpa nama ini adalah id, maka bisa di ubah nama nya menjadi id"
      ],
      "metadata": {
        "id": "h4KBYK6vNMvV"
      }
    },
    {
      "cell_type": "code",
      "source": [
        "df = df.rename(columns = {' ':'id'})"
      ],
      "metadata": {
        "id": "ht8ZVOkqOVs7"
      },
      "execution_count": null,
      "outputs": []
    },
    {
      "cell_type": "code",
      "source": [
        "df.info()"
      ],
      "metadata": {
        "colab": {
          "base_uri": "https://localhost:8080/"
        },
        "id": "1EySTJ_dOn2z",
        "outputId": "1bf27fc6-4c7f-455a-bc9b-a269420097a9"
      },
      "execution_count": null,
      "outputs": [
        {
          "output_type": "stream",
          "name": "stdout",
          "text": [
            "<class 'pandas.core.frame.DataFrame'>\n",
            "Int64Index: 3096 entries, 0 to 3106\n",
            "Data columns (total 9 columns):\n",
            " #   Column             Non-Null Count  Dtype \n",
            "---  ------             --------------  ----- \n",
            " 0   id                 3096 non-null   int64 \n",
            " 1   urlDrugName        3096 non-null   object\n",
            " 2   rating             3096 non-null   int64 \n",
            " 3   effectiveness      3096 non-null   object\n",
            " 4   sideEffects        3096 non-null   object\n",
            " 5   condition          3096 non-null   object\n",
            " 6   benefitsReview     3096 non-null   object\n",
            " 7   sideEffectsReview  3096 non-null   object\n",
            " 8   commentsReview     3096 non-null   object\n",
            "dtypes: int64(2), object(7)\n",
            "memory usage: 241.9+ KB\n"
          ]
        }
      ]
    },
    {
      "cell_type": "code",
      "source": [
        "#menampilkan jumlah nilai yang unik dalam kolom 'commentsReview'\n",
        "df['commentsReview'].nunique()"
      ],
      "metadata": {
        "colab": {
          "base_uri": "https://localhost:8080/"
        },
        "id": "GXK9OxgHUlS3",
        "outputId": "1c0f04ee-32c6-4d91-b1fa-0964c6513187"
      },
      "execution_count": null,
      "outputs": [
        {
          "output_type": "execute_result",
          "data": {
            "text/plain": [
              "3044"
            ]
          },
          "metadata": {},
          "execution_count": 13
        }
      ]
    },
    {
      "cell_type": "code",
      "source": [
        "#menampilkan jumlah nilai yang unik dalam kolom 'sideEffectsReview'\n",
        "df['sideEffectsReview'].nunique()"
      ],
      "metadata": {
        "colab": {
          "base_uri": "https://localhost:8080/"
        },
        "id": "h9V99HbbVBBA",
        "outputId": "c3a829ae-153b-4111-d182-5ad394e9a094"
      },
      "execution_count": null,
      "outputs": [
        {
          "output_type": "execute_result",
          "data": {
            "text/plain": [
              "2806"
            ]
          },
          "metadata": {},
          "execution_count": 14
        }
      ]
    },
    {
      "cell_type": "code",
      "source": [
        "#menampilkan jumlah nilai yang unik dalam kolom 'benefitsReview'\n",
        "df['benefitsReview'].nunique()"
      ],
      "metadata": {
        "colab": {
          "base_uri": "https://localhost:8080/"
        },
        "id": "JkexBT22VPbv",
        "outputId": "7f5cd14e-1533-4cb7-ff62-7d1e8a088018"
      },
      "execution_count": null,
      "outputs": [
        {
          "output_type": "execute_result",
          "data": {
            "text/plain": [
              "3021"
            ]
          },
          "metadata": {},
          "execution_count": 15
        }
      ]
    },
    {
      "cell_type": "code",
      "source": [
        "#menampilkan jumlah nilai yang unik dalam kolom 'condition'\n",
        "df['condition'].nunique()"
      ],
      "metadata": {
        "colab": {
          "base_uri": "https://localhost:8080/"
        },
        "id": "rYhm_B8iVZLV",
        "outputId": "48fa50e4-f891-461a-9b2e-f5908a04f60e"
      },
      "execution_count": null,
      "outputs": [
        {
          "output_type": "execute_result",
          "data": {
            "text/plain": [
              "1422"
            ]
          },
          "metadata": {},
          "execution_count": 16
        }
      ]
    },
    {
      "cell_type": "code",
      "source": [
        "#menampilkan jumlah nilai yang unik dalam kolom 'sideEffects'\n",
        "df['sideEffects'].nunique()"
      ],
      "metadata": {
        "colab": {
          "base_uri": "https://localhost:8080/"
        },
        "id": "ZA5ilO8nVf8u",
        "outputId": "997267c4-6231-4f6f-c121-4337e152af6e"
      },
      "execution_count": null,
      "outputs": [
        {
          "output_type": "execute_result",
          "data": {
            "text/plain": [
              "5"
            ]
          },
          "metadata": {},
          "execution_count": 17
        }
      ]
    },
    {
      "cell_type": "code",
      "source": [
        "#menampilkan jumlah nilai yang unik dalam kolom 'urlDrugName'\n",
        "df['urlDrugName'].nunique()"
      ],
      "metadata": {
        "colab": {
          "base_uri": "https://localhost:8080/"
        },
        "id": "PCnTkn-ZVmPP",
        "outputId": "7862276b-9a87-4be8-c97e-07bc194c5334"
      },
      "execution_count": null,
      "outputs": [
        {
          "output_type": "execute_result",
          "data": {
            "text/plain": [
              "501"
            ]
          },
          "metadata": {},
          "execution_count": 18
        }
      ]
    },
    {
      "cell_type": "code",
      "source": [
        "#menampilkan tipe data setiap kolom dalam dataframe\n",
        "df.dtypes"
      ],
      "metadata": {
        "colab": {
          "base_uri": "https://localhost:8080/"
        },
        "id": "Te2tIAtZV_Ef",
        "outputId": "98389f74-a3e5-480a-d1d7-b87cd4cf0db2"
      },
      "execution_count": null,
      "outputs": [
        {
          "output_type": "execute_result",
          "data": {
            "text/plain": [
              "id                    int64\n",
              "urlDrugName          object\n",
              "rating                int64\n",
              "effectiveness        object\n",
              "sideEffects          object\n",
              "condition            object\n",
              "benefitsReview       object\n",
              "sideEffectsReview    object\n",
              "commentsReview       object\n",
              "dtype: object"
            ]
          },
          "metadata": {},
          "execution_count": 19
        }
      ]
    },
    {
      "cell_type": "code",
      "source": [
        "#menyalin variabel df ke variabel\n",
        "df_num = df.copy()"
      ],
      "metadata": {
        "id": "y6pOnYQ7WzKr"
      },
      "execution_count": null,
      "outputs": []
    },
    {
      "cell_type": "code",
      "source": [
        "#mengimpor LabelEncoder dari library sklearn.preprocessing untuk mengubah tipe data yang kategorik dalam dataframe ke tipe data numerik\n",
        "from sklearn.preprocessing import LabelEncoder\n",
        "\n",
        "#membuat objek le sebagai instansi dari LabelEncoder\n",
        "le = LabelEncoder()\n",
        "\n",
        "#mengubah kolom-kolom bertipe kategorik menjadi numerik\n",
        "df_num['urlDrugName'] = le.fit_transform(df_num['urlDrugName'])\n",
        "df_num['effectiveness'] = le.fit_transform(df_num['effectiveness'])\n",
        "df_num['sideEffects'] = le.fit_transform(df_num['sideEffects'])\n",
        "df_num['condition'] = le.fit_transform(df_num['condition'])\n",
        "df_num['benefitsReview'] = le.fit_transform(df_num['benefitsReview'])\n",
        "df_num['sideEffectsReview'] = le.fit_transform(df_num['sideEffectsReview'])\n",
        "df_num['commentsReview'] = le.fit_transform(df_num['commentsReview'])\n",
        "\n",
        "#menampilkan kembali tipe data yang sudah diubah dalam dataframe\n",
        "df_num.dtypes"
      ],
      "metadata": {
        "colab": {
          "base_uri": "https://localhost:8080/"
        },
        "id": "onP6LWcAWH4n",
        "outputId": "4afc2c94-1e16-4ead-f802-36cfc46c87a5"
      },
      "execution_count": null,
      "outputs": [
        {
          "output_type": "execute_result",
          "data": {
            "text/plain": [
              "id                   int64\n",
              "urlDrugName          int64\n",
              "rating               int64\n",
              "effectiveness        int64\n",
              "sideEffects          int64\n",
              "condition            int64\n",
              "benefitsReview       int64\n",
              "sideEffectsReview    int64\n",
              "commentsReview       int64\n",
              "dtype: object"
            ]
          },
          "metadata": {},
          "execution_count": 21
        }
      ]
    },
    {
      "cell_type": "code",
      "source": [
        "#mengubah nama target agar target berada dalam kolom paling akhir dataframe\n",
        "df_num['Effectiveness'] = df_num['effectiveness'].rename()"
      ],
      "metadata": {
        "id": "qiqLhlhVXWw6"
      },
      "execution_count": null,
      "outputs": []
    },
    {
      "cell_type": "code",
      "source": [
        "#mengecek apakah sudah ada kolom yang baru dalam dataframe\n",
        "df_num.columns"
      ],
      "metadata": {
        "colab": {
          "base_uri": "https://localhost:8080/"
        },
        "id": "WRuIokbOXj0n",
        "outputId": "a408245d-0437-424a-9215-95cc675b83b5"
      },
      "execution_count": null,
      "outputs": [
        {
          "output_type": "execute_result",
          "data": {
            "text/plain": [
              "Index(['id', 'urlDrugName', 'rating', 'effectiveness', 'sideEffects',\n",
              "       'condition', 'benefitsReview', 'sideEffectsReview', 'commentsReview',\n",
              "       'Effectiveness'],\n",
              "      dtype='object')"
            ]
          },
          "metadata": {},
          "execution_count": 23
        }
      ]
    },
    {
      "cell_type": "code",
      "source": [
        "#menghapus kolom target yang lama karena sudah ada kolom target yang baru\n",
        "df_num = df_num.drop('effectiveness', axis=1)\n",
        "\n",
        "#mengecek kembali apakah kolom sudah terhapus\n",
        "df_num.columns"
      ],
      "metadata": {
        "colab": {
          "base_uri": "https://localhost:8080/"
        },
        "id": "P6CH7SWPYTd7",
        "outputId": "5424cec1-52b4-4429-de78-338a733e3393"
      },
      "execution_count": null,
      "outputs": [
        {
          "output_type": "execute_result",
          "data": {
            "text/plain": [
              "Index(['id', 'urlDrugName', 'rating', 'sideEffects', 'condition',\n",
              "       'benefitsReview', 'sideEffectsReview', 'commentsReview',\n",
              "       'Effectiveness'],\n",
              "      dtype='object')"
            ]
          },
          "metadata": {},
          "execution_count": 24
        }
      ]
    },
    {
      "cell_type": "code",
      "source": [
        "#menampilkan distribusi data dalam setiap kelas pada kolom target untuk mengetahui seberapa seimbang data yang terdistribusi\n",
        "sns.countplot(df_num['Effectiveness'])\n",
        "\n",
        "#menghitung jumlah nilai pada setiap kelas dalam dataframe\n",
        "df_num['Effectiveness'].value_counts()"
      ],
      "metadata": {
        "colab": {
          "base_uri": "https://localhost:8080/",
          "height": 438
        },
        "id": "iGDG7ztGXH8O",
        "outputId": "f3a3412b-4e7f-432d-90e7-eab4c4da7159"
      },
      "execution_count": null,
      "outputs": [
        {
          "output_type": "stream",
          "name": "stderr",
          "text": [
            "/usr/local/lib/python3.8/dist-packages/seaborn/_decorators.py:36: FutureWarning: Pass the following variable as a keyword arg: x. From version 0.12, the only valid positional argument will be `data`, and passing other arguments without an explicit keyword will result in an error or misinterpretation.\n",
            "  warnings.warn(\n"
          ]
        },
        {
          "output_type": "execute_result",
          "data": {
            "text/plain": [
              "1    1327\n",
              "0     925\n",
              "4     413\n",
              "2     245\n",
              "3     186\n",
              "Name: Effectiveness, dtype: int64"
            ]
          },
          "metadata": {},
          "execution_count": 25
        },
        {
          "output_type": "display_data",
          "data": {
            "text/plain": [
              "<Figure size 432x288 with 1 Axes>"
            ],
            "image/png": "[encoded data removed]"
          },
          "metadata": {
            "needs_background": "light"
          }
        }
      ]
    },
    {
      "cell_type": "markdown",
      "source": [
        ">Pada visualisasi data diatas dapat dilihat bahwa distribusi data sangat tidak seimbang dan akan menyebabkan model bagus memprediksi kelas 1 namun buruk dalam memprediksi kelas lain, maka perlu augmentasi data agar distribusi datanya seimbang"
      ],
      "metadata": {
        "id": "GZoreTmity-U"
      }
    },
    {
      "cell_type": "code",
      "source": [
        "#mengimpor resample dari library sklearn.utils\n",
        "from sklearn.utils import resample\n",
        "\n",
        "#membuat objek untuk membagi kelas kedalam beberapa objek yang dibagi berdasarkan data terbanyak yaitu kelas 1 pada kolom 'effectiveness' menjadi df_majority(minoritas) dan selebihnya minoritas\n",
        "df_majority = df_num[(df_num['Effectiveness']==1)]\n",
        "df_minority = df_num[(df_num['Effectiveness']==2)]\n",
        "df_minority2 = df_num[(df_num['Effectiveness']==3)]\n",
        "df_minority3 = df_num[(df_num['Effectiveness']==4)]\n",
        "df_minority4 = df_num[(df_num['Effectiveness']==0)]\n",
        "\n",
        "#melakukan upsample pada setiap kelas minoritas menurut jumlah data kelas mayoritas\n",
        "df_minority_upsampled = resample(df_minority, replace=True, n_samples=1327, random_state=0)\n",
        "df_minority_upsampled2 = resample(df_minority2, replace=True, n_samples=1327, random_state=0)\n",
        "df_minority_upsampled3 = resample(df_minority3, replace=True, n_samples=1327, random_state=0)\n",
        "df_minority_upsampled4 = resample(df_minority4, replace=True, n_samples=1327, random_state=0)\n",
        "\n",
        "#melakukan penggabungan semua kelas yang sudah di upsample menjadi satu kembali\n",
        "df_upsampled = pd.concat([df_majority,df_minority_upsampled4,df_minority_upsampled,df_minority_upsampled2,df_minority_upsampled3])"
      ],
      "metadata": {
        "id": "LYTRZeteYyVd"
      },
      "execution_count": null,
      "outputs": []
    },
    {
      "cell_type": "code",
      "source": [
        "#menampilkan distribusi kembali untuk mengecek apakah distribusi data sudah seimbang\n",
        "sns.countplot(df_upsampled['Effectiveness'])\n",
        "\n",
        "#menampilkan jumlah isi data tiap kelas kembali untuk mengecek apakah jumlah isi data nya sudah seimbang\n",
        "df_upsampled['Effectiveness'].value_counts()"
      ],
      "metadata": {
        "colab": {
          "base_uri": "https://localhost:8080/",
          "height": 438
        },
        "id": "Rp2cv12saUHe",
        "outputId": "e8f4ee70-43d7-425c-9c4f-db04ff0877ea"
      },
      "execution_count": null,
      "outputs": [
        {
          "output_type": "stream",
          "name": "stderr",
          "text": [
            "/usr/local/lib/python3.8/dist-packages/seaborn/_decorators.py:36: FutureWarning: Pass the following variable as a keyword arg: x. From version 0.12, the only valid positional argument will be `data`, and passing other arguments without an explicit keyword will result in an error or misinterpretation.\n",
            "  warnings.warn(\n"
          ]
        },
        {
          "output_type": "execute_result",
          "data": {
            "text/plain": [
              "1    1327\n",
              "0    1327\n",
              "2    1327\n",
              "3    1327\n",
              "4    1327\n",
              "Name: Effectiveness, dtype: int64"
            ]
          },
          "metadata": {},
          "execution_count": 27
        },
        {
          "output_type": "display_data",
          "data": {
            "text/plain": [
              "<Figure size 432x288 with 1 Axes>"
            ],
            "image/png": "[encoded data removed]"
          },
          "metadata": {
            "needs_background": "light"
          }
        }
      ]
    },
    {
      "cell_type": "markdown",
      "source": [
        "Dari visualisasi diatas dapat dilihat bahwa kini distribusi data sudah seimbang"
      ],
      "metadata": {
        "id": "q8gkCAvaQUvK"
      }
    },
    {
      "cell_type": "markdown",
      "source": [
        "# **Modul C: Data Visualisation**"
      ],
      "metadata": {
        "id": "PBbgoSden1Q8"
      }
    },
    {
      "cell_type": "code",
      "source": [
        "#menampilkan histogram distribusi isi data tiap kolom dalam dataframe\n",
        "ax = df_upsampled.hist(figsize=(15,10))"
      ],
      "metadata": {
        "colab": {
          "base_uri": "https://localhost:8080/",
          "height": 607
        },
        "id": "kBSHjqSMW4se",
        "outputId": "cf5d06b1-7f9f-42db-e5d8-b7870bd0db10"
      },
      "execution_count": null,
      "outputs": [
        {
          "output_type": "display_data",
          "data": {
            "text/plain": [
              "<Figure size 1080x720 with 9 Axes>"
            ],
            "image/png": "[encoded data removed]"
          },
          "metadata": {
            "needs_background": "light"
          }
        }
      ]
    },
    {
      "cell_type": "markdown",
      "source": [
        ">Dari visualisasi diatas dapat dilihat dalam kolom urlDrugName data paling banyak berada di angka 400an, lalu di kolom rating data terbanyak ada di angka 2, pada kolom sideEffect didominasi oleh nomor 1 yaitu Mild Side Effects, untuk fitur target data sudah terdistribusi dengan merata karena sudah dilakukan upsampling"
      ],
      "metadata": {
        "id": "LFkFFrgmQs2o"
      }
    },
    {
      "cell_type": "code",
      "source": [
        "#membuat dan mengatur ukuran figur untuk menampilkan heatmap yang akan dibuat nantinya\n",
        "plt.figure(figsize=(15,10))\n",
        "\n",
        "#menampilkan heatmap korelasi antar fitur/kolom dalam dataframe\n",
        "sns.heatmap(df_upsampled.corr(), annot=True)"
      ],
      "metadata": {
        "colab": {
          "base_uri": "https://localhost:8080/",
          "height": 693
        },
        "id": "ZSMT5HnmW9Km",
        "outputId": "1a2625ee-b254-4de9-8fb8-f4c323240a04"
      },
      "execution_count": null,
      "outputs": [
        {
          "output_type": "execute_result",
          "data": {
            "text/plain": [
              "<AxesSubplot:>"
            ]
          },
          "metadata": {},
          "execution_count": 29
        },
        {
          "output_type": "display_data",
          "data": {
            "text/plain": [
              "<Figure size 1080x720 with 2 Axes>"
            ],
            "image/png": "[encoded data removed]"
          },
          "metadata": {
            "needs_background": "light"
          }
        }
      ]
    },
    {
      "cell_type": "markdown",
      "source": [
        ">Dari visualisasi heatmap diatas terlihat bahwa fitur dengan korelasi tertinggi kepada target adalah sideEffects"
      ],
      "metadata": {
        "id": "pmn0n3T1RNNw"
      }
    },
    {
      "cell_type": "code",
      "source": [
        "#menampilkan persebaran data untuk mendeteksi apakah ada nilai outlier dalam dataframe\n",
        "ax = df_upsampled.plot(kind='box',subplots=True,figsize=(20,10))"
      ],
      "metadata": {
        "colab": {
          "base_uri": "https://localhost:8080/",
          "height": 592
        },
        "id": "7aev-VKwabfM",
        "outputId": "d9a61272-db85-4f4b-f083-62e17ec88229"
      },
      "execution_count": null,
      "outputs": [
        {
          "output_type": "display_data",
          "data": {
            "text/plain": [
              "<Figure size 1440x720 with 9 Axes>"
            ],
            "image/png": "[encoded data removed]"
          },
          "metadata": {
            "needs_background": "light"
          }
        }
      ]
    },
    {
      "cell_type": "markdown",
      "source": [
        ">Pada visualisasi diatas dapat dilihat bahwa tidak ada nilai outlier dalam dataframe"
      ],
      "metadata": {
        "id": "HlRZx_2PxoRq"
      }
    },
    {
      "cell_type": "markdown",
      "source": [
        "# **Modul D2: Classification**"
      ],
      "metadata": {
        "id": "EeZP2WsiohGK"
      }
    },
    {
      "cell_type": "code",
      "source": [
        "#melakukan pemisahan data/splitting menjadi 2 objek yaitu y untuk fitur target dan X untuk kolom selebihnya\n",
        "X = df_upsampled.drop('Effectiveness', axis=1)\n",
        "y = df_upsampled['Effectiveness']"
      ],
      "metadata": {
        "id": "hyfJO6k4cA4M"
      },
      "execution_count": null,
      "outputs": []
    },
    {
      "cell_type": "code",
      "source": [
        "#mengimpor library dan modul yang akan digunakan dalam pemodelan\n",
        "from sklearn.model_selection import train_test_split,cross_val_score\n",
        "from sklearn.metrics import accuracy_score,confusion_matrix,classification_report\n",
        "\n",
        "from sklearn.tree import DecisionTreeClassifier\n",
        "from sklearn.ensemble import RandomForestClassifier\n",
        "from sklearn.neighbors import KNeighborsClassifier\n",
        "from sklearn.linear_model import LogisticRegression\n",
        "from sklearn.svm import SVC\n",
        "from xgboost import XGBClassifier\n",
        "\n",
        "#melakukan splitting data untuk training model\n",
        "X_train,X_test,y_train,y_test = train_test_split(X,y,test_size=0.2,random_state=0)"
      ],
      "metadata": {
        "id": "EnL-piXKcRf9"
      },
      "execution_count": null,
      "outputs": []
    },
    {
      "cell_type": "code",
      "source": [
        "#melakukan pemodelan menggunakan beberapa algoritma machine learning dan dicari algoritma dengan akurasi terbesar\n",
        "cls = [\n",
        "    DecisionTreeClassifier(),\n",
        "    RandomForestClassifier(),\n",
        "    KNeighborsClassifier(),\n",
        "    LogisticRegression(max_iter=1000),\n",
        "    SVC(probability=True),\n",
        "    XGBClassifier(),\n",
        "]\n",
        "\n",
        "acc_dict = {}\n",
        "\n",
        "log_cols = ['Classifier','Accuracy']\n",
        "log = pd.DataFrame(columns=log_cols)\n",
        "\n",
        "for clf in cls:\n",
        "  name = clf.__class__.__name__\n",
        "  clf.fit(X_train,y_train)\n",
        "  y_pred = clf.predict(X_test)\n",
        "\n",
        "  acc = accuracy_score(y_test,y_pred)\n",
        "  acc_dict[name] = acc\n",
        "\n",
        "for clf in acc_dict:\n",
        "  log_entry = pd.DataFrame([[clf, acc_dict[clf]]], columns=log_cols)\n",
        "  log = log.append(log_entry)"
      ],
      "metadata": {
        "colab": {
          "base_uri": "https://localhost:8080/"
        },
        "id": "TN_aLI59c7ik",
        "outputId": "50d96fdf-0da3-4567-a049-2d264c8681a5"
      },
      "execution_count": null,
      "outputs": [
        {
          "output_type": "stream",
          "name": "stderr",
          "text": [
            "/usr/local/lib/python3.8/dist-packages/sklearn/linear_model/_logistic.py:458: ConvergenceWarning: lbfgs failed to converge (status=1):\n",
            "STOP: TOTAL NO. of ITERATIONS REACHED LIMIT.\n",
            "\n",
            "Increase the number of iterations (max_iter) or scale the data as shown in:\n",
            "    https://scikit-learn.org/stable/modules/preprocessing.html\n",
            "Please also refer to the documentation for alternative solver options:\n",
            "    https://scikit-learn.org/stable/modules/linear_model.html#logistic-regression\n",
            "  n_iter_i = _check_optimize_result(\n"
          ]
        }
      ]
    },
    {
      "cell_type": "code",
      "source": [
        "#melakukan visualisasi akurasi tiap tiap algoritma yang sudah di training\n",
        "plt.xlabel('Accuracy')\n",
        "plt.ylabel('Classifier')\n",
        "\n",
        "sns.barplot(data=log, x='Accuracy', y='Classifier')"
      ],
      "metadata": {
        "colab": {
          "base_uri": "https://localhost:8080/",
          "height": 296
        },
        "id": "TLeuJqBZd2VF",
        "outputId": "a2c5eb91-9add-496b-98b3-610db52cb46b"
      },
      "execution_count": null,
      "outputs": [
        {
          "output_type": "execute_result",
          "data": {
            "text/plain": [
              "<AxesSubplot:xlabel='Accuracy', ylabel='Classifier'>"
            ]
          },
          "metadata": {},
          "execution_count": 45
        },
        {
          "output_type": "display_data",
          "data": {
            "text/plain": [
              "<Figure size 432x288 with 1 Axes>"
            ],
            "image/png": "[encoded data removed]"
          },
          "metadata": {
            "needs_background": "light"
          }
        }
      ]
    },
    {
      "cell_type": "code",
      "source": [
        "#menampilkan dataframe dan mengurutkan nya dari akurasi terbesar\n",
        "log.sort_values(by=['Accuracy'], ascending=False)"
      ],
      "metadata": {
        "colab": {
          "base_uri": "https://localhost:8080/",
          "height": 238
        },
        "id": "oq0lGKW9eEAs",
        "outputId": "b9866edb-109a-4889-8275-5fd87ad115a1"
      },
      "execution_count": null,
      "outputs": [
        {
          "output_type": "execute_result",
          "data": {
            "text/plain": [
              "               Classifier  Accuracy\n",
              "0  RandomForestClassifier  0.918613\n",
              "0           XGBClassifier  0.915599\n",
              "0  DecisionTreeClassifier  0.896760\n",
              "0    KNeighborsClassifier  0.643557\n",
              "0      LogisticRegression  0.467973\n",
              "0                     SVC  0.254710"
            ],
            "text/html": [
              "\n",
              "  <div id=\"df-1ebd5b9e-62ac-44ae-9d21-9b3d6c8d8f1a\">\n",
              "    <div class=\"colab-df-container\">\n",
              "      <div>\n",
              "<style scoped>\n",
              "    .dataframe tbody tr th:only-of-type {\n",
              "        vertical-align: middle;\n",
              "    }\n",
              "\n",
              "    .dataframe tbody tr th {\n",
              "        vertical-align: top;\n",
              "    }\n",
              "\n",
              "    .dataframe thead th {\n",
              "        text-align: right;\n",
              "    }\n",
              "</style>\n",
              "<table border=\"1\" class=\"dataframe\">\n",
              "  <thead>\n",
              "    <tr style=\"text-align: right;\">\n",
              "      <th></th>\n",
              "      <th>Classifier</th>\n",
              "      <th>Accuracy</th>\n",
              "    </tr>\n",
              "  </thead>\n",
              "  <tbody>\n",
              "    <tr>\n",
              "      <th>0</th>\n",
              "      <td>RandomForestClassifier</td>\n",
              "      <td>0.918613</td>\n",
              "    </tr>\n",
              "    <tr>\n",
              "      <th>0</th>\n",
              "      <td>XGBClassifier</td>\n",
              "      <td>0.915599</td>\n",
              "    </tr>\n",
              "    <tr>\n",
              "      <th>0</th>\n",
              "      <td>DecisionTreeClassifier</td>\n",
              "      <td>0.896760</td>\n",
              "    </tr>\n",
              "    <tr>\n",
              "      <th>0</th>\n",
              "      <td>KNeighborsClassifier</td>\n",
              "      <td>0.643557</td>\n",
              "    </tr>\n",
              "    <tr>\n",
              "      <th>0</th>\n",
              "      <td>LogisticRegression</td>\n",
              "      <td>0.467973</td>\n",
              "    </tr>\n",
              "    <tr>\n",
              "      <th>0</th>\n",
              "      <td>SVC</td>\n",
              "      <td>0.254710</td>\n",
              "    </tr>\n",
              "  </tbody>\n",
              "</table>\n",
              "</div>\n",
              "      <button class=\"colab-df-convert\" onclick=\"convertToInteractive('df-1ebd5b9e-62ac-44ae-9d21-9b3d6c8d8f1a')\"\n",
              "              title=\"Convert this dataframe to an interactive table.\"\n",
              "              style=\"display:none;\">\n",
              "        \n",
              "  <svg xmlns=\"http://www.w3.org/2000/svg\" height=\"24px\"viewBox=\"0 0 24 24\"\n",
              "       width=\"24px\">\n",
              "    <path d=\"M0 0h24v24H0V0z\" fill=\"none\"/>\n",
              "    <path d=\"M18.56 5.44l.94 2.06.94-2.06 2.06-.94-2.06-.94-.94-2.06-.94 2.06-2.06.94zm-11 1L8.5 8.5l.94-2.06 2.06-.94-2.06-.94L8.5 2.5l-.94 2.06-2.06.94zm10 10l.94 2.06.94-2.06 2.06-.94-2.06-.94-.94-2.06-.94 2.06-2.06.94z\"/><path d=\"M17.41 7.96l-1.37-1.37c-.4-.4-.92-.59-1.43-.59-.52 0-1.04.2-1.43.59L10.3 9.45l-7.72 7.72c-.78.78-.78 2.05 0 2.83L4 21.41c.39.39.9.59 1.41.59.51 0 1.02-.2 1.41-.59l7.78-7.78 2.81-2.81c.8-.78.8-2.07 0-2.86zM5.41 20L4 18.59l7.72-7.72 1.47 1.35L5.41 20z\"/>\n",
              "  </svg>\n",
              "      </button>\n",
              "      \n",
              "  <style>\n",
              "    .colab-df-container {\n",
              "      display:flex;\n",
              "      flex-wrap:wrap;\n",
              "      gap: 12px;\n",
              "    }\n",
              "\n",
              "    .colab-df-convert {\n",
              "      background-color: #E8F0FE;\n",
              "      border: none;\n",
              "      border-radius: 50%;\n",
              "      cursor: pointer;\n",
              "      display: none;\n",
              "      fill: #1967D2;\n",
              "      height: 32px;\n",
              "      padding: 0 0 0 0;\n",
              "      width: 32px;\n",
              "    }\n",
              "\n",
              "    .colab-df-convert:hover {\n",
              "      background-color: #E2EBFA;\n",
              "      box-shadow: 0px 1px 2px rgba(60, 64, 67, 0.3), 0px 1px 3px 1px rgba(60, 64, 67, 0.15);\n",
              "      fill: #174EA6;\n",
              "    }\n",
              "\n",
              "    [theme=dark] .colab-df-convert {\n",
              "      background-color: #3B4455;\n",
              "      fill: #D2E3FC;\n",
              "    }\n",
              "\n",
              "    [theme=dark] .colab-df-convert:hover {\n",
              "      background-color: #434B5C;\n",
              "      box-shadow: 0px 1px 3px 1px rgba(0, 0, 0, 0.15);\n",
              "      filter: drop-shadow(0px 1px 2px rgba(0, 0, 0, 0.3));\n",
              "      fill: #FFFFFF;\n",
              "    }\n",
              "  </style>\n",
              "\n",
              "      <script>\n",
              "        const buttonEl =\n",
              "          document.querySelector('#df-1ebd5b9e-62ac-44ae-9d21-9b3d6c8d8f1a button.colab-df-convert');\n",
              "        buttonEl.style.display =\n",
              "          google.colab.kernel.accessAllowed ? 'block' : 'none';\n",
              "\n",
              "        async function convertToInteractive(key) {\n",
              "          const element = document.querySelector('#df-1ebd5b9e-62ac-44ae-9d21-9b3d6c8d8f1a');\n",
              "          const dataTable =\n",
              "            await google.colab.kernel.invokeFunction('convertToInteractive',\n",
              "                                                     [key], {});\n",
              "          if (!dataTable) return;\n",
              "\n",
              "          const docLinkHtml = 'Like what you see? Visit the ' +\n",
              "            '<a target=\"_blank\" href=https://colab.research.google.com/notebooks/data_table.ipynb>data table notebook</a>'\n",
              "            + ' to learn more about interactive tables.';\n",
              "          element.innerHTML = '';\n",
              "          dataTable['output_type'] = 'display_data';\n",
              "          await google.colab.output.renderOutput(dataTable, element);\n",
              "          const docLink = document.createElement('div');\n",
              "          docLink.innerHTML = docLinkHtml;\n",
              "          element.appendChild(docLink);\n",
              "        }\n",
              "      </script>\n",
              "    </div>\n",
              "  </div>\n",
              "  "
            ]
          },
          "metadata": {},
          "execution_count": 46
        }
      ]
    },
    {
      "cell_type": "markdown",
      "source": [
        ">Dapat dilihat dalam dataframe diatas bahwa algoritma random forest memiliki akurasi yang cukup tinggi"
      ],
      "metadata": {
        "id": "jmO45A3BzSHh"
      }
    },
    {
      "cell_type": "code",
      "source": [
        "#melakukan training random forest sendiri karena memiliki akurasi tertinggi\n",
        "rf = RandomForestClassifier()\n",
        "\n",
        "rf.fit(X_train,y_train)\n",
        "y_pred2 = rf.predict(X_train)\n",
        "y_pred = rf.predict(X_test)\n",
        "\n",
        "#menampilkan akurasi training model untuk dibandingkan dengan akurasi testing guna mencegah terjadi nya overfitting/underfitting\n",
        "print('Akurasi pada training model :', accuracy_score(y_train,y_pred2))\n",
        "\n",
        "#menampilkan akurasi testing model untuk dibandingkan dengan akurasi training  guna mencegah terjadi nya overfitting/underfitting\n",
        "print('Akurasi pada testing model :', accuracy_score(y_test,y_pred))\n",
        "\n",
        "#menampilkan confusion matrix untuk mengetahui seberapa akurat akurasi model yang sudah dibuat\n",
        "print(confusion_matrix(y_test,y_pred))\n",
        "\n",
        "#menampilkan laporan klasifikasi untuk mengetahui skor-skor lain seperti precision,recall,f1-score\n",
        "print(classification_report(y_test,y_pred))"
      ],
      "metadata": {
        "colab": {
          "base_uri": "https://localhost:8080/"
        },
        "id": "nFiDYXengCr5",
        "outputId": "2206982c-9aa7-4a61-9a2f-e03ee337e38a"
      },
      "execution_count": null,
      "outputs": [
        {
          "output_type": "stream",
          "name": "stdout",
          "text": [
            "Akurasi pada training model : 1.0\n",
            "Akurasi pada testing model : 0.9193669932177845\n",
            "[[240  18   4   2   6]\n",
            " [ 49 185   5   1  11]\n",
            " [  0   0 269   0   3]\n",
            " [  0   0   2 283   0]\n",
            " [  2   1   0   3 243]]\n",
            "              precision    recall  f1-score   support\n",
            "\n",
            "           0       0.82      0.89      0.86       270\n",
            "           1       0.91      0.74      0.81       251\n",
            "           2       0.96      0.99      0.97       272\n",
            "           3       0.98      0.99      0.99       285\n",
            "           4       0.92      0.98      0.95       249\n",
            "\n",
            "    accuracy                           0.92      1327\n",
            "   macro avg       0.92      0.92      0.92      1327\n",
            "weighted avg       0.92      0.92      0.92      1327\n",
            "\n"
          ]
        }
      ]
    },
    {
      "cell_type": "code",
      "source": [
        "#melakukan training xgboost sendiri karena memiliki akurasi tertinggi ke 2\n",
        "xgb = XGBClassifier()\n",
        "\n",
        "xgb.fit(X_train,y_train)\n",
        "y_pred2 = xgb.predict(X_train)\n",
        "y_pred = xgb.predict(X_test)\n",
        "\n",
        "#menampilkan akurasi training model untuk dibandingkan dengan akurasi testing guna mencegah terjadi nya overfitting/underfitting\n",
        "print('Akurasi pada training model :', accuracy_score(y_train,y_pred2))\n",
        "\n",
        "#menampilkan akurasi testing model untuk dibandingkan dengan akurasi training  guna mencegah terjadi nya overfitting/underfitting\n",
        "print('Akurasi pada testing model :', accuracy_score(y_test,y_pred))\n",
        "\n",
        "#menampilkan confusion matrix untuk mengetahui seberapa akurat akurasi model yang sudah dibuat\n",
        "print(confusion_matrix(y_test,y_pred))\n",
        "\n",
        "#menampilkan laporan klasifikasi untuk mengetahui skor-skor lain seperti precision,recall,f1-score\n",
        "print(classification_report(y_test,y_pred))"
      ],
      "metadata": {
        "colab": {
          "base_uri": "https://localhost:8080/"
        },
        "id": "i62pli0ceRal",
        "outputId": "602d7f6d-b7ee-4062-9df5-e0b23542df74"
      },
      "execution_count": null,
      "outputs": [
        {
          "output_type": "stream",
          "name": "stdout",
          "text": [
            "Akurasi pada training model : 0.9998116051243406\n",
            "Akurasi pada testing model : 0.9155990957045969\n",
            "[[235  21   2   2  10]\n",
            " [ 52 186   2   2   9]\n",
            " [  0   0 269   0   3]\n",
            " [  0   2   0 283   0]\n",
            " [  4   3   0   0 242]]\n",
            "              precision    recall  f1-score   support\n",
            "\n",
            "           0       0.81      0.87      0.84       270\n",
            "           1       0.88      0.74      0.80       251\n",
            "           2       0.99      0.99      0.99       272\n",
            "           3       0.99      0.99      0.99       285\n",
            "           4       0.92      0.97      0.94       249\n",
            "\n",
            "    accuracy                           0.92      1327\n",
            "   macro avg       0.91      0.91      0.91      1327\n",
            "weighted avg       0.92      0.92      0.91      1327\n",
            "\n"
          ]
        }
      ]
    },
    {
      "cell_type": "code",
      "source": [
        "#membuat fungsi clf_model untuk menampilkan skor validasi silang\n",
        "def clf_model(model):\n",
        "  scores = cross_val_score(model,X,y, cv=10)\n",
        "\n",
        "  print('Skor validasi silang :', scores)\n",
        "  print('Skor rata-rata validasi silang :', scores.mean())"
      ],
      "metadata": {
        "id": "ONmE_kH0euuz"
      },
      "execution_count": null,
      "outputs": []
    },
    {
      "cell_type": "code",
      "source": [
        "#menampilkan skor validasi silang untuk algoritma randomforest\n",
        "clf_model(RandomForestClassifier())"
      ],
      "metadata": {
        "colab": {
          "base_uri": "https://localhost:8080/"
        },
        "id": "c72XXVuGfHkb",
        "outputId": "649e2e17-2280-4abe-a963-548e8d7c3f5f"
      },
      "execution_count": null,
      "outputs": [
        {
          "output_type": "stream",
          "name": "stdout",
          "text": [
            "Skor validasi silang : [0.90210843 0.90662651 0.90361446 0.89457831 0.92319277 0.91101056\n",
            " 0.91553544 0.91402715 0.90648567 0.92458522]\n",
            "Skor rata-rata validasi silang : 0.910176452415999\n"
          ]
        }
      ]
    },
    {
      "cell_type": "code",
      "source": [
        "#menampilkan skor validasi silang untuk algoritma xgboost\n",
        "clf_model(XGBClassifier())"
      ],
      "metadata": {
        "colab": {
          "base_uri": "https://localhost:8080/"
        },
        "id": "dS2cZi9LfDd0",
        "outputId": "139f5fbc-f1bd-4962-ad38-9d3cff92d556"
      },
      "execution_count": null,
      "outputs": [
        {
          "output_type": "stream",
          "name": "stdout",
          "text": [
            "Skor validasi silang : [0.90662651 0.9186747  0.91114458 0.89307229 0.9126506  0.90497738\n",
            " 0.91553544 0.92609351 0.89894419 0.92609351]\n",
            "Skor rata-rata validasi silang : 0.9113812716931073\n"
          ]
        }
      ]
    },
    {
      "cell_type": "markdown",
      "source": [
        ">Dapat dilihat bahwa skor validasi silang kedua algoritma diatas cukup bagus, jadi dapat disimpulkan bahwa algoritma **random forest** dan **xgboost** adalah algoritma terbaik untuk dataset ini"
      ],
      "metadata": {
        "id": "FsWav14J2GIT"
      }
    }
  ]
}